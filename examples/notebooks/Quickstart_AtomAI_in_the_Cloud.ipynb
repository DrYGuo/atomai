{
  "nbformat": 4,
  "nbformat_minor": 0,
  "metadata": {
    "colab": {
      "name": "Quickstart: AtomAI in the Cloud.ipynb",
      "provenance": [],
      "authorship_tag": "ABX9TyMDoTYxWBpgrkXsS74VJ7SB",
      "include_colab_link": true
    },
    "kernelspec": {
      "name": "python3",
      "display_name": "Python 3"
    }
  },
  "cells": [
    {
      "cell_type": "markdown",
      "metadata": {
        "id": "view-in-github",
        "colab_type": "text"
      },
      "source": [
        "<a href=\"https://colab.research.google.com/github/ziatdinovmax/atomai/blob/master/examples/notebooks/Quickstart_AtomAI_in_the_Cloud.ipynb\" target=\"_parent\"><img src=\"https://colab.research.google.com/assets/colab-badge.svg\" alt=\"Open In Colab\"/></a>"
      ]
    },
    {
      "cell_type": "markdown",
      "metadata": {
        "id": "JNSCYiYuHWRo",
        "colab_type": "text"
      },
      "source": [
        "## Quickstart: AtomAI in the Cloud\n",
        "\n",
        "The easiest way to start using AtomAI is via [Google Colab](https://colab.research.google.com/notebooks/intro.ipynb), which is a free research tool from Google for machine learning education and research built on top of Jupyter Notebook. From our experience, it is also an ideal tool for scientific collaboration and sharing your results with non-experts (as opposed to, say, collaboration via a GitHub project), especially when there are drastic fluctuations in coding skills across a team/collaboration.\n",
        "<br><br>\n",
        "\n",
        "To open the example notebooks, simply click on \"Open in Colab\" badge.\n",
        "<br><br>\n",
        "\n",
        "1) Use AtomAI to train a deep NN for atom finding [![Open In Colab](https://colab.research.google.com/assets/colab-badge.svg)](https://colab.research.google.com/github/ziatdinovmax/atomai/blob/master/examples/notebooks/atomai_atomnet.ipynb)\n",
        "\n",
        "\n",
        "2) Analyze distortion domains in a single atomic image [![Open In Colab](https://colab.research.google.com/assets/colab-badge.svg)](https://colab.research.google.com/github/ziatdinovmax/atomai/blob/master/examples/notebooks/atomai_atomstat.ipynb)\n",
        "\n",
        "\n",
        "3) Analyze trajectories of atomic defects in atomic movie - TBA\n",
        "\n",
        "\n",
        "4) Prepare training data from experimental image with atomic coordinates (beta) [![Open In Colab](https://colab.research.google.com/assets/colab-badge.svg)](https://colab.research.google.com/github/ziatdinovmax/atomai/blob/master/examples/notebooks/atomai_training_data.ipynb)"
      ]
    }
  ]
}